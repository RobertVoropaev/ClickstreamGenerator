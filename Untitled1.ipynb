{
 "cells": [
  {
   "cell_type": "code",
   "execution_count": 2,
   "metadata": {},
   "outputs": [],
   "source": [
    "pages = []\n",
    "with open(\"pages.txt\") as f:\n",
    "    for line in f:\n",
    "        pages.append(line.strip())"
   ]
  },
  {
   "cell_type": "code",
   "execution_count": null,
   "metadata": {},
   "outputs": [],
   "source": []
  },
  {
   "cell_type": "code",
   "execution_count": 10,
   "metadata": {},
   "outputs": [],
   "source": [
    "import pandas as pd\n",
    "import numpy as np\n",
    "import random\n",
    "import datetime"
   ]
  },
  {
   "cell_type": "code",
   "execution_count": 4,
   "metadata": {},
   "outputs": [],
   "source": [
    "clickstream = pd.DataFrame(columns=[\"user_id\", \"session_id\",datetimepage\", \"event_type\", \"timestamp\"])"
   ]
  },
  {
   "cell_type": "code",
   "execution_count": null,
   "metadata": {},
   "outputs": [],
   "source": [
    "def add_new_user():\n",
    "clickstream.append({\"use\"})"
   ]
  },
  {
   "cell_type": "code",
   "execution_count": 9,
   "metadata": {},
   "outputs": [
    {
     "data": {
      "text/plain": [
       "169"
      ]
     },
     "execution_count": 9,
     "metadata": {},
     "output_type": "execute_result"
    }
   ],
   "source": [
    "random.randint(0, 1000)"
   ]
  },
  {
   "cell_type": "code",
   "execution_count": 13,
   "metadata": {},
   "outputs": [
    {
     "data": {
      "text/plain": [
       "1618497966.609487"
      ]
     },
     "execution_count": 13,
     "metadata": {},
     "output_type": "execute_result"
    }
   ],
   "source": []
  },
  {
   "cell_type": "code",
   "execution_count": null,
   "metadata": {},
   "outputs": [],
   "source": [
    "MIN_USER_ID = 1\n",
    "MAX_USER_ID = 100000\n",
    "\n",
    "START_SESSION = 1\n",
    "START_TIMESTAMP = int(datetime.datetime.now().timestamp())\n",
    "\n",
    "class Clickstream_Generator:\n",
    "    def __init__(self):\n",
    "        self.clickstream = pd.DataFrame(columns=[\"user_id\", \"session_id\", \"event_page\", \"event_type\", \"timestamp\"])\n",
    "        self.current_users = []\n",
    "        self.current_session = START_SESSION\n",
    "    \n",
    "    def get_new_user_id(self):\n",
    "        user_id = random.randint(MIN_USER_ID, MAX_USER_ID)\n",
    "        while user_id in self.current_users:\n",
    "            user_id = random.randint(MIN_USER_ID, MAX_USER_ID)\n",
    "        return user_id\n",
    "    \n",
    "    def get_\n",
    "    \n",
    "    def add_new_user(self):\n",
    "        user_id = self.get_new_user_id()\n",
    "        self.clickstream.append({\"user_id\": user_id})"
   ]
  }
 ],
 "metadata": {
  "kernelspec": {
   "display_name": "Python 3",
   "language": "python",
   "name": "python3"
  },
  "language_info": {
   "codemirror_mode": {
    "name": "ipython",
    "version": 3
   },
   "file_extension": ".py",
   "mimetype": "text/x-python",
   "name": "python",
   "nbconvert_exporter": "python",
   "pygments_lexer": "ipython3",
   "version": "3.8.5"
  }
 },
 "nbformat": 4,
 "nbformat_minor": 4
}
