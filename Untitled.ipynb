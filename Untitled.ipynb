{
 "cells": [
  {
   "cell_type": "code",
   "execution_count": 1,
   "metadata": {},
   "outputs": [],
   "source": [
    "import numpy as np\n",
    "import pandas as pd"
   ]
  },
  {
   "cell_type": "code",
   "execution_count": 4,
   "metadata": {},
   "outputs": [
    {
     "data": {
      "text/plain": [
       "array([[ True,  True],\n",
       "       [ True,  True],\n",
       "       [ True,  True]])"
      ]
     },
     "execution_count": 4,
     "metadata": {},
     "output_type": "execute_result"
    }
   ],
   "source": [
    "np.random.rand(3, 2)"
   ]
  },
  {
   "cell_type": "code",
   "execution_count": 17,
   "metadata": {},
   "outputs": [],
   "source": [
    "class ClickstreamGen:\n",
    "    def __init__(self, num_of_page: int = 100, edge_prob: int = 0.5, seed: int = 0):\n",
    "        self.num_of_page = num_of_page\n",
    "        self.edge_prob = edge_prob\n",
    "        self.seed = seed\n",
    "        \n",
    "    def gen_adjMatrix(self):\n",
    "        return (np.random.rand(self.num_of_page, self.num_of_page)) \n",
    "    \n",
    "    def start_session(self):\n",
    "        self.v = np.random.randint(low=0, high=self.num_of_page)\n",
    "        \n",
    "    def step(self):\n",
    "        adj_list ="
   ]
  },
  {
   "cell_type": "code",
   "execution_count": 21,
   "metadata": {},
   "outputs": [
    {
     "ename": "TypeError",
     "evalue": "randint() takes at least 1 positional argument (0 given)",
     "output_type": "error",
     "traceback": [
      "\u001b[0;31m---------------------------------------------------------------------------\u001b[0m",
      "\u001b[0;31mTypeError\u001b[0m                                 Traceback (most recent call last)",
      "\u001b[0;32m<ipython-input-21-c77516ad7597>\u001b[0m in \u001b[0;36m<module>\u001b[0;34m\u001b[0m\n\u001b[0;32m----> 1\u001b[0;31m \u001b[0mnp\u001b[0m\u001b[0;34m.\u001b[0m\u001b[0mrandom\u001b[0m\u001b[0;34m.\u001b[0m\u001b[0mrandint\u001b[0m\u001b[0;34m(\u001b[0m\u001b[0;34m)\u001b[0m\u001b[0;34m\u001b[0m\u001b[0;34m\u001b[0m\u001b[0m\n\u001b[0m",
      "\u001b[0;32mmtrand.pyx\u001b[0m in \u001b[0;36mnumpy.random.mtrand.RandomState.randint\u001b[0;34m()\u001b[0m\n",
      "\u001b[0;31mTypeError\u001b[0m: randint() takes at least 1 positional argument (0 given)"
     ]
    }
   ],
   "source": [
    "np.random.randint(x)"
   ]
  },
  {
   "cell_type": "code",
   "execution_count": 18,
   "metadata": {},
   "outputs": [],
   "source": [
    "cg = ClickstreamGen()"
   ]
  },
  {
   "cell_type": "code",
   "execution_count": 19,
   "metadata": {},
   "outputs": [
    {
     "data": {
      "text/plain": [
       "array([[0.20558918, 0.42570043, 0.95863499, ..., 0.55672193, 0.00707867,\n",
       "        0.17101014],\n",
       "       [0.99441918, 0.41393879, 0.08271968, ..., 0.65409323, 0.32189989,\n",
       "        0.75475902],\n",
       "       [0.35894735, 0.35321818, 0.17716162, ..., 0.82600214, 0.35011376,\n",
       "        0.44418158],\n",
       "       ...,\n",
       "       [0.89598353, 0.88625934, 0.69244166, ..., 0.69021007, 0.35337479,\n",
       "        0.92417189],\n",
       "       [0.19169789, 0.74321102, 0.98040771, ..., 0.91313436, 0.00636492,\n",
       "        0.64697281],\n",
       "       [0.52738526, 0.33513317, 0.06671727, ..., 0.49782356, 0.18182839,\n",
       "        0.16968934]])"
      ]
     },
     "execution_count": 19,
     "metadata": {},
     "output_type": "execute_result"
    }
   ],
   "source": [
    "cg.gen_adjMatrix()"
   ]
  }
 ],
 "metadata": {
  "kernelspec": {
   "display_name": "Python 3",
   "language": "python",
   "name": "python3"
  },
  "language_info": {
   "codemirror_mode": {
    "name": "ipython",
    "version": 3
   },
   "file_extension": ".py",
   "mimetype": "text/x-python",
   "name": "python",
   "nbconvert_exporter": "python",
   "pygments_lexer": "ipython3",
   "version": "3.8.5"
  }
 },
 "nbformat": 4,
 "nbformat_minor": 4
}
