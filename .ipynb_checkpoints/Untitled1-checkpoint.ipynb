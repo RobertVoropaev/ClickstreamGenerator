{
 "cells": [
  {
   "cell_type": "code",
   "execution_count": 2,
   "metadata": {
    "collapsed": true
   },
   "outputs": [],
   "source": [
    "import pandas as pd\n",
    "import numpy as np\n",
    "import random\n",
    "import datetime"
   ]
  },
  {
   "cell_type": "code",
   "execution_count": 1,
   "metadata": {
    "collapsed": true
   },
   "outputs": [],
   "source": [
    "pages = []\n",
    "with open(\"pages.txt\") as f:\n",
    "    for line in f:\n",
    "        pages.append(line.strip())"
   ]
  },
  {
   "cell_type": "code",
   "execution_count": 13,
   "metadata": {
    "collapsed": true
   },
   "outputs": [],
   "source": [
    "MIN_USER_ID = 1\n",
    "MAX_USER_ID = 100000\n",
    "\n",
    "START_SESSION = 1\n",
    "START_TIMESTAMP = int(datetime.datetime.now().timestamp())\n",
    "\n",
    "class Clickstream_Generator:\n",
    "    def __init__(self):\n",
    "        self.clickstream = pd.DataFrame(columns=[\"user_id\", \"session_id\", \n",
    "                                                 \"event_type\", \"event_page\", \"timestamp\"])\n",
    "        self.current_users = []\n",
    "        self.current_session = START_SESSION\n",
    "    \n",
    "    \n",
    "    def get_new_user_id(self):\n",
    "        user_id = random.randint(MIN_USER_ID, MAX_USER_ID)\n",
    "        while user_id in self.current_users:\n",
    "            user_id = random.randint(MIN_USER_ID, MAX_USER_ID)\n",
    "        return user_id\n",
    "    \n",
    "    \n",
    "    def get_session_id(self):\n",
    "        return self.current_session\n",
    "    \n",
    "    \n",
    "    def add_new_user(self):\n",
    "        user_id = self.get_new_user_id()\n",
    "        session_id = self.get_session_id()\n",
    "        timestamp = int(datetime.datetime.now().timestamp())\n",
    "        event_type = \"page\"\n",
    "        event_page = \"main\"\n",
    "        self.clickstream = self.clickstream.append({\"user_id\": user_id, \"session_id\": session_id, \n",
    "                                                     \"event_type\": event_type, \"event_page\": event_page, \n",
    "                                                     \"timestamp\": timestamp}, ignore_index=True)\n",
    "        \n",
    "    \n",
    "    def get_random_current_user(self):\n",
    "        random_index = random.randint(0, len(self.current_users) - 1)\n",
    "        return self.current_users[random_index]\n",
    "    \n",
    "    \n",
    "    def step_random_user(self):\n",
    "        user_id = self.get_random_current_user()\n",
    "        \n",
    "        "
   ]
  },
  {
   "cell_type": "code",
   "execution_count": 21,
   "metadata": {},
   "outputs": [
    {
     "data": {
      "text/plain": [
       "2"
      ]
     },
     "execution_count": 21,
     "metadata": {},
     "output_type": "execute_result"
    }
   ],
   "source": []
  },
  {
   "cell_type": "code",
   "execution_count": 14,
   "metadata": {
    "collapsed": true
   },
   "outputs": [],
   "source": [
    "gen = Clickstream_Generator()"
   ]
  },
  {
   "cell_type": "code",
   "execution_count": 19,
   "metadata": {},
   "outputs": [],
   "source": [
    "gen.add_new_user()"
   ]
  },
  {
   "cell_type": "code",
   "execution_count": 20,
   "metadata": {},
   "outputs": [
    {
     "data": {
      "text/html": [
       "<div>\n",
       "<style>\n",
       "    .dataframe thead tr:only-child th {\n",
       "        text-align: right;\n",
       "    }\n",
       "\n",
       "    .dataframe thead th {\n",
       "        text-align: left;\n",
       "    }\n",
       "\n",
       "    .dataframe tbody tr th {\n",
       "        vertical-align: top;\n",
       "    }\n",
       "</style>\n",
       "<table border=\"1\" class=\"dataframe\">\n",
       "  <thead>\n",
       "    <tr style=\"text-align: right;\">\n",
       "      <th></th>\n",
       "      <th>user_id</th>\n",
       "      <th>session_id</th>\n",
       "      <th>event_type</th>\n",
       "      <th>event_page</th>\n",
       "      <th>timestamp</th>\n",
       "    </tr>\n",
       "  </thead>\n",
       "  <tbody>\n",
       "    <tr>\n",
       "      <th>0</th>\n",
       "      <td>50267</td>\n",
       "      <td>1</td>\n",
       "      <td>page</td>\n",
       "      <td>main</td>\n",
       "      <td>1618501610</td>\n",
       "    </tr>\n",
       "    <tr>\n",
       "      <th>1</th>\n",
       "      <td>9838</td>\n",
       "      <td>1</td>\n",
       "      <td>page</td>\n",
       "      <td>main</td>\n",
       "      <td>1618501658</td>\n",
       "    </tr>\n",
       "    <tr>\n",
       "      <th>2</th>\n",
       "      <td>7326</td>\n",
       "      <td>1</td>\n",
       "      <td>page</td>\n",
       "      <td>main</td>\n",
       "      <td>1618501661</td>\n",
       "    </tr>\n",
       "  </tbody>\n",
       "</table>\n",
       "</div>"
      ],
      "text/plain": [
       "  user_id session_id event_type event_page   timestamp\n",
       "0   50267          1       page       main  1618501610\n",
       "1    9838          1       page       main  1618501658\n",
       "2    7326          1       page       main  1618501661"
      ]
     },
     "execution_count": 20,
     "metadata": {},
     "output_type": "execute_result"
    }
   ],
   "source": [
    "gen.clickstream"
   ]
  },
  {
   "cell_type": "code",
   "execution_count": null,
   "metadata": {
    "collapsed": true
   },
   "outputs": [],
   "source": []
  }
 ],
 "metadata": {
  "kernelspec": {
   "display_name": "Python 3",
   "language": "python",
   "name": "python3"
  },
  "language_info": {
   "codemirror_mode": {
    "name": "ipython",
    "version": 3
   },
   "file_extension": ".py",
   "mimetype": "text/x-python",
   "name": "python",
   "nbconvert_exporter": "python",
   "pygments_lexer": "ipython3",
   "version": "3.6.1"
  }
 },
 "nbformat": 4,
 "nbformat_minor": 4
}
