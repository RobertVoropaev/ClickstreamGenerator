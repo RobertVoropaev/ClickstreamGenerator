{
 "cells": [
  {
   "cell_type": "code",
   "execution_count": 41,
   "metadata": {},
   "outputs": [],
   "source": [
    "import pyspark\n",
    "from pyspark.sql import SparkSession, Window\n",
    "import pyspark.sql.functions as f"
   ]
  },
  {
   "cell_type": "code",
   "execution_count": 98,
   "metadata": {},
   "outputs": [],
   "source": [
    "sc = SparkSession.builder.master(\"local\") \\\n",
    "                 .getOrCreate()"
   ]
  },
  {
   "cell_type": "code",
   "execution_count": 99,
   "metadata": {},
   "outputs": [],
   "source": [
    "clickstream = sc.read.csv(\"clickstream.csv\", sep=\"\\t\", header=True)"
   ]
  },
  {
   "cell_type": "code",
   "execution_count": 100,
   "metadata": {},
   "outputs": [
    {
     "name": "stdout",
     "output_type": "stream",
     "text": [
      "+-------+----------+----------+-------------+----------+\n",
      "|user_id|session_id|event_type|   event_page| timestamp|\n",
      "+-------+----------+----------+-------------+----------+\n",
      "|     10|         1|      page|         main|1619563674|\n",
      "|     10|         1|     event|         main|1619563683|\n",
      "|      1|       308|      page|         main|1619563751|\n",
      "|      1|       308|     event|         main|1619563759|\n",
      "|      1|       308|     event|         main|1619563760|\n",
      "|      1|       317|      page|         main|1619563805|\n",
      "|      1|       317|     event|         main|1619563811|\n",
      "|      0|       862|      page|         main|1619563877|\n",
      "|      0|       862|     event|         main|1619563878|\n",
      "|      0|       862|     event|         main|1619563886|\n",
      "|      0|       862|     event|         main|1619563894|\n",
      "|      0|       862|      page|      archive|1619563897|\n",
      "|      0|       862|     event|      archive|1619563906|\n",
      "|      0|       862|      page|         main|1619563913|\n",
      "|      0|       862|      page|      archive|1619563923|\n",
      "|      0|       862|     event|      archive|1619563924|\n",
      "|      0|       862|      page|beznal_cc_rus|1619563933|\n",
      "|      0|       862|     event|beznal_cc_rus|1619563940|\n",
      "|      0|       862|     event|beznal_cc_rus|1619563943|\n",
      "|      0|       862|     event|beznal_cc_rus|1619563943|\n",
      "+-------+----------+----------+-------------+----------+\n",
      "only showing top 20 rows\n",
      "\n"
     ]
    }
   ],
   "source": [
    "clickstream.show()"
   ]
  },
  {
   "cell_type": "code",
   "execution_count": 101,
   "metadata": {},
   "outputs": [
    {
     "name": "stdout",
     "output_type": "stream",
     "text": [
      "+-------+----------+-------------------+\n",
      "|user_id|session_id|min_error_timestamp|\n",
      "+-------+----------+-------------------+\n",
      "|      3|       807|         1619577711|\n",
      "|      5|       139|         1619574897|\n",
      "|      9|      1027|         1619583200|\n",
      "|      9|       969|         1619571039|\n",
      "|      6|       985|         1619595904|\n",
      "|      8|       491|         1619567943|\n",
      "|      9|       943|         1619564185|\n",
      "|     10|        63|         1619581483|\n",
      "|     10|       132|         1619606542|\n",
      "|     10|       176|         1619617542|\n",
      "|      5|       177|         1619584670|\n",
      "|      6|       924|         1619579940|\n",
      "|      8|       591|         1619596008|\n",
      "|      0|      1098|         1619620160|\n",
      "|      3|       778|         1619570321|\n",
      "|      3|       978|         1619620541|\n",
      "|      4|       420|         1619607416|\n",
      "|      9|       945|         1619566944|\n",
      "|      0|      1070|         1619614804|\n",
      "|      2|       377|         1619580535|\n",
      "+-------+----------+-------------------+\n",
      "only showing top 20 rows\n",
      "\n"
     ]
    }
   ],
   "source": [
    "# список пользователей с ошибками\n",
    "users_with_error = clickstream.filter(f.col(\"event_type\").rlike(\".*error.*\")) \\\n",
    "                              .groupBy(\"user_id\", \"session_id\") \\\n",
    "                              .agg(f.min(\"timestamp\").alias(\"min_error_timestamp\"))\n",
    "users_with_error.show()"
   ]
  },
  {
   "cell_type": "code",
   "execution_count": 102,
   "metadata": {},
   "outputs": [
    {
     "name": "stdout",
     "output_type": "stream",
     "text": [
      "+-------+----------+----------+-------------+----------+\n",
      "|user_id|session_id|event_type|   event_page| timestamp|\n",
      "+-------+----------+----------+-------------+----------+\n",
      "|     10|         1|      page|         main|1619563674|\n",
      "|     10|         1|     event|         main|1619563683|\n",
      "|      1|       308|      page|         main|1619563751|\n",
      "|      1|       308|     event|         main|1619563759|\n",
      "|      1|       308|     event|         main|1619563760|\n",
      "|      1|       317|      page|         main|1619563805|\n",
      "|      1|       317|     event|         main|1619563811|\n",
      "|      0|       862|      page|         main|1619563877|\n",
      "|      0|       862|     event|         main|1619563878|\n",
      "|      0|       862|     event|         main|1619563886|\n",
      "|      0|       862|     event|         main|1619563894|\n",
      "|      0|       862|      page|      archive|1619563897|\n",
      "|      0|       862|     event|      archive|1619563906|\n",
      "|      0|       862|      page|         main|1619563913|\n",
      "|      0|       862|      page|      archive|1619563923|\n",
      "|      0|       862|     event|      archive|1619563924|\n",
      "|      0|       862|      page|beznal_cc_rus|1619563933|\n",
      "|      0|       862|     event|beznal_cc_rus|1619563940|\n",
      "|      0|       862|     event|beznal_cc_rus|1619563943|\n",
      "|      0|       862|     event|beznal_cc_rus|1619563943|\n",
      "+-------+----------+----------+-------------+----------+\n",
      "only showing top 20 rows\n",
      "\n"
     ]
    }
   ],
   "source": [
    "# удаление событий после ошибок\n",
    "clickstream_correct = clickstream.join(users_with_error, \n",
    "                                       on=[\"user_id\", \"session_id\"],\n",
    "                                       how=\"left_outer\") \\\n",
    "                                 .filter((f.col(\"timestamp\") < f.col(\"min_error_timestamp\")) | \n",
    "                                          f.col(\"min_error_timestamp\").isNull()) \\\n",
    "                                 .drop(\"min_error_timestamp\")\n",
    "\n",
    "clickstream_correct.show()"
   ]
  },
  {
   "cell_type": "code",
   "execution_count": 103,
   "metadata": {},
   "outputs": [
    {
     "name": "stdout",
     "output_type": "stream",
     "text": [
      "+-------+----------+----------+-----------+----------+\n",
      "|user_id|session_id|event_type| event_page| timestamp|\n",
      "+-------+----------+----------+-----------+----------+\n",
      "|      6|      1069|      page|    archive|1619615653|\n",
      "|      6|      1069|     event|    archive|1619615673|\n",
      "|      6|      1069|     event|    archive|1619615682|\n",
      "|      6|      1069|     event|    archive|1619615692|\n",
      "|      6|      1069|     event|    archive|1619615706|\n",
      "|      6|      1069|      page|       main|1619615717|\n",
      "|      6|      1069|     event|       main|1619615719|\n",
      "|      6|      1069|     event|       main|1619615721|\n",
      "|      6|      1069|     event|       main|1619615789|\n",
      "|      6|      1069|     event|       main|1619615792|\n",
      "|      6|      1069|     event|       main|1619615840|\n",
      "|      6|      1069|      page|autopayment|1619615886|\n",
      "|      6|      1069|     event|autopayment|1619615896|\n",
      "|      6|      1069|      page|       main|1619615996|\n",
      "|      6|      1069|     event|       main|1619616002|\n",
      "|      6|      1069|      page|    archive|1619616002|\n",
      "|      6|      1069|     event|    archive|1619616125|\n",
      "|      6|      1069|     event|    archive|1619616141|\n",
      "|      6|      1069|     event|    archive|1619616206|\n",
      "|      6|      1069|     event|    archive|1619616230|\n",
      "+-------+----------+----------+-----------+----------+\n",
      "only showing top 20 rows\n",
      "\n"
     ]
    }
   ],
   "source": [
    "# удаление случайных страниц\n",
    "w = Window().partitionBy(\"user_id\", \"session_id\") \\\n",
    "            .orderBy(\"timestamp\") \n",
    "\n",
    "clickstream_nonrandom = clickstream_correct.withColumn(\"next_event_type\", \n",
    "                                                      f.lead(\"event_type\", default=\"page\").over(w)) \\\n",
    "                                           .filter(~((f.col(\"event_type\") == \"page\") & \n",
    "                                                    (f.col(\"next_event_type\") == \"page\"))) \\\n",
    "                                           .drop(\"next_event_type\")\n",
    "clickstream_nonrandom.show()"
   ]
  },
  {
   "cell_type": "code",
   "execution_count": 104,
   "metadata": {},
   "outputs": [
    {
     "name": "stdout",
     "output_type": "stream",
     "text": [
      "10000\n",
      "7375\n",
      "6150\n"
     ]
    }
   ],
   "source": [
    "print(clickstream.count())\n",
    "print(clickstream_correct.count())\n",
    "print(clickstream_nonrandom.count())"
   ]
  },
  {
   "cell_type": "code",
   "execution_count": 105,
   "metadata": {},
   "outputs": [
    {
     "name": "stdout",
     "output_type": "stream",
     "text": [
      "+-------+----------+--------------------+\n",
      "|user_id|session_id|             journey|\n",
      "+-------+----------+--------------------+\n",
      "|      6|      1069|archive-main-auto...|\n",
      "|      1|       502|main-main-archive...|\n",
      "|      3|       807|autopayment-bezna...|\n",
      "|      4|       319|       beznal_cc_rus|\n",
      "|      5|       139|main-autopayment-...|\n",
      "|      7|       501|main-beznal_cc_ru...|\n",
      "|      0|       969|main-beznal_cc_ru...|\n",
      "|      8|       632|main-autopayment-...|\n",
      "|      3|       756|main-beznal_cc_ru...|\n",
      "|      9|      1027|           main-main|\n",
      "|      0|      1053|                main|\n",
      "|     10|        76|autopayment-main-...|\n",
      "|      0|       923|  main-beznal_cc_rus|\n",
      "|     10|        34|beznal_cc_rus-aut...|\n",
      "|      4|       432|                main|\n",
      "|      6|       909|             archive|\n",
      "|      9|      1092|archive-main-main...|\n",
      "|      9|       993|main-beznal_cc_ru...|\n",
      "|      4|       446|main-autopayment-...|\n",
      "|      1|       516|                main|\n",
      "+-------+----------+--------------------+\n",
      "only showing top 20 rows\n",
      "\n"
     ]
    }
   ],
   "source": [
    "# группировка сессий и составление пользовательского пути\n",
    "user_journey_map = clickstream_nonrandom.filter(\"event_type = 'page'\") \\\n",
    "                                        .groupBy(\"user_id\", \"session_id\") \\\n",
    "                                        .agg(f.concat_ws(\"-\", f.collect_list(\"event_page\")).alias(\"journey\"))\n",
    "user_journey_map.show()"
   ]
  },
  {
   "cell_type": "code",
   "execution_count": 106,
   "metadata": {},
   "outputs": [
    {
     "name": "stdout",
     "output_type": "stream",
     "text": [
      "+--------------------+-----+\n",
      "|             journey|count|\n",
      "+--------------------+-----+\n",
      "|                main|   70|\n",
      "|        main-archive|   20|\n",
      "|  main-beznal_cc_rus|   17|\n",
      "|    main-autopayment|   17|\n",
      "|       beznal_cc_rus|   10|\n",
      "|             archive|    9|\n",
      "|           main-main|    9|\n",
      "|   main-archive-main|    7|\n",
      "|main-autopayment-...|    7|\n",
      "|main-archive-auto...|    6|\n",
      "|  beznal_cc_rus-main|    6|\n",
      "|main-autopayment-...|    6|\n",
      "|         autopayment|    5|\n",
      "|main-beznal_cc_ru...|    5|\n",
      "|        archive-main|    4|\n",
      "|autopayment-autop...|    4|\n",
      "| autopayment-archive|    4|\n",
      "|main-beznal_cc_ru...|    3|\n",
      "|main-beznal_cc_ru...|    3|\n",
      "|main-beznal_cc_ru...|    2|\n",
      "+--------------------+-----+\n",
      "only showing top 20 rows\n",
      "\n"
     ]
    }
   ],
   "source": [
    "# статистика по самым частым пользовательским маршрутам\n",
    "journey_map_stats = user_journey_map.groupBy(\"journey\").count() \\\n",
    "                                    .orderBy(f.col(\"count\").desc()) \\\n",
    "                                    .limit(100)\n",
    "journey_map_stats.show()"
   ]
  }
 ],
 "metadata": {
  "kernelspec": {
   "display_name": "Python 3",
   "language": "python",
   "name": "python3"
  },
  "language_info": {
   "codemirror_mode": {
    "name": "ipython",
    "version": 3
   },
   "file_extension": ".py",
   "mimetype": "text/x-python",
   "name": "python",
   "nbconvert_exporter": "python",
   "pygments_lexer": "ipython3",
   "version": "3.8.5"
  }
 },
 "nbformat": 4,
 "nbformat_minor": 4
}
